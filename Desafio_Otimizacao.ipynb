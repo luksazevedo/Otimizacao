{
  "nbformat": 4,
  "nbformat_minor": 0,
  "metadata": {
    "colab": {
      "name": "Desafio_Otimização_Bootcamp.ipynb",
      "provenance": [],
      "collapsed_sections": []
    },
    "kernelspec": {
      "name": "python3",
      "display_name": "Python 3"
    },
    "language_info": {
      "name": "python"
    }
  },
  "cells": [
    {
      "cell_type": "code",
      "source": [
        "!pip install pulp"
      ],
      "metadata": {
        "colab": {
          "base_uri": "https://localhost:8080/"
        },
        "id": "qi9uCAnKdJum",
        "outputId": "175917e1-c816-41e5-d725-2c74a701310e"
      },
      "execution_count": 14,
      "outputs": [
        {
          "output_type": "stream",
          "name": "stdout",
          "text": [
            "Looking in indexes: https://pypi.org/simple, https://us-python.pkg.dev/colab-wheels/public/simple/\n",
            "Requirement already satisfied: pulp in /usr/local/lib/python3.7/dist-packages (2.6.0)\n"
          ]
        }
      ]
    },
    {
      "cell_type": "code",
      "execution_count": 15,
      "metadata": {
        "colab": {
          "base_uri": "https://localhost:8080/"
        },
        "id": "vxfYj5EPc7y8",
        "outputId": "79952c99-ad62-4870-a143-74edc8a9b7d0"
      },
      "outputs": [
        {
          "output_type": "stream",
          "name": "stdout",
          "text": [
            "Otimização_investimento:\n",
            "MAXIMIZE\n",
            "410000*_item1 + 330000*_item2 + 140000*_item3 + 250000*_item4 + 320000*_item5 + 320000*_item6 + 90000*_item7 + 190000*_item8 + 0\n",
            "SUBJECT TO\n",
            "_C1: 470000 _item1 + 400000 _item2 + 170000 _item3 + 270000 _item4\n",
            " + 340000 _item5 + 230000 _item6 + 50000 _item7 + 440000 _item8 <= 1000000\n",
            "\n",
            "_C2: _item1 + _item5 <= 1\n",
            "\n",
            "_C3: - _item2 + _item4 >= 0\n",
            "\n",
            "VARIABLES\n",
            "0 <= _item1 <= 1 Integer\n",
            "0 <= _item2 <= 1 Integer\n",
            "0 <= _item3 <= 1 Integer\n",
            "0 <= _item4 <= 1 Integer\n",
            "0 <= _item5 <= 1 Integer\n",
            "0 <= _item6 <= 1 Integer\n",
            "0 <= _item7 <= 1 Integer\n",
            "0 <= _item8 <= 1 Integer\n",
            "\n",
            "Optimal\n",
            "O valor total da funçao objetivo é: R$990000.0\n",
            " \n",
            "_item1 = 0.0\n",
            "_item2 = 1.0\n",
            "_item3 = 0.0\n",
            "_item4 = 1.0\n",
            "_item5 = 0.0\n",
            "_item6 = 1.0\n",
            "_item7 = 1.0\n",
            "_item8 = 0.0\n",
            " \n",
            "Itens selecionados\n",
            "[_item2, _item4, _item6, _item7]\n"
          ]
        }
      ],
      "source": [
        "# importar o pulp\n",
        "from pulp import *\n",
        "\n",
        "#Dados do problema\n",
        "\n",
        "itens = ['item1','item2','item3','item4','item5','item6','item7','item8']\n",
        "\n",
        "capital = 1000000\n",
        "custo = {'item1':470000,\n",
        "        'item2':400000,\n",
        "        'item3':170000,\n",
        "        'item4':270000,\n",
        "        'item5':340000,\n",
        "        'item6':230000,\n",
        "        'item7':50000,\n",
        "        'item8':440000}\n",
        "\n",
        "retorno ={'item1':410000,\n",
        "        'item2':330000,\n",
        "        'item3':140000,\n",
        "        'item4':250000,\n",
        "        'item5':320000,\n",
        "        'item6':320000,\n",
        "        'item7':90000,\n",
        "        'item8':190000}\n",
        "\n",
        "# Variáveis de decisão\n",
        "var = LpVariable.dict(\"\",(itens),cat = 'Binary')\n",
        "\n",
        "# Criar o Problema\n",
        "model = LpProblem(\"Otimização_investimento\",LpMaximize)\n",
        "# Criar fo\n",
        "lista_fo =[]\n",
        "\n",
        "for item in itens:\n",
        "    lista_fo.append(var[item] * retorno[item])\n",
        "\n",
        "model += lpSum(lista_fo)\n",
        "\n",
        "\n",
        "# Criação das restrições\n",
        "lista_rest = []\n",
        "\n",
        "for item in itens:\n",
        "    lista_rest.append(var[item]*custo[item])\n",
        "    \n",
        "model += lpSum(lista_rest) <= capital\n",
        "\n",
        "# Restrições condicionais auxiliares\n",
        "model += (var['item5']+var['item1'] <= 1) # se item 1 selecionado entao item 5 não deve ser\n",
        "\n",
        "model += (var['item4']-var['item2'] >= 0) # se item 2 selecionado item 4 tbm deve ser\n",
        "\n",
        "\n",
        "# Solução do modelo\n",
        "print(model)\n",
        "status = model.solve()\n",
        "print(LpStatus[status])\n",
        "print(f'O valor total da funçao objetivo é: R${value(model.objective)}')\n",
        "print(\" \")\n",
        "\n",
        "\n",
        "for x in var.values():\n",
        "    print(f'{x} = {value(x)}')\n",
        "\n",
        "selecionados = []\n",
        "for x in var.values():\n",
        "  if value(x) ==1:\n",
        "    selecionados.append(x)\n",
        "print(\" \")\n",
        "print(\"Itens selecionados\")\n",
        "print(selecionados)\n",
        " "
      ]
    }
  ]
}